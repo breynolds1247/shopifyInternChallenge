{
 "cells": [
  {
   "cell_type": "markdown",
   "id": "0a0389bc",
   "metadata": {},
   "source": [
    "First import the required packages to analyze the provided data.\n"
   ]
  },
  {
   "cell_type": "code",
   "execution_count": 39,
   "id": "f0c537d1",
   "metadata": {},
   "outputs": [],
   "source": [
    "#import packages\n",
    "import pandas as pd\n",
    "import numpy as np\n",
    "import matplotlib.pyplot as plt\n",
    "\n",
    "plt.style.use('seaborn-whitegrid')"
   ]
  },
  {
   "cell_type": "markdown",
   "id": "b1a99cf8",
   "metadata": {},
   "source": [
    "Next, load the provided data (downloaded as a .csv file) as a dataframe."
   ]
  },
  {
   "cell_type": "code",
   "execution_count": 26,
   "id": "5182dfe7",
   "metadata": {},
   "outputs": [],
   "source": [
    "#load the data as a dataframe\n",
    "shoes = pd.read_csv(\"2019 Winter Data Science Intern Challenge Data Set - Sheet1.csv\")"
   ]
  },
  {
   "cell_type": "markdown",
   "id": "01051943",
   "metadata": {},
   "source": [
    "Now I do some quick checks of he data to make sure that it has loaded properly and get a feel for what I am working with. I will also do some cursory checks to make sure that there are no zero or empty entries in the data that could be throwing off the results."
   ]
  },
  {
   "cell_type": "code",
   "execution_count": 27,
   "id": "1a729b4c",
   "metadata": {},
   "outputs": [
    {
     "data": {
      "text/html": [
       "<div>\n",
       "<style scoped>\n",
       "    .dataframe tbody tr th:only-of-type {\n",
       "        vertical-align: middle;\n",
       "    }\n",
       "\n",
       "    .dataframe tbody tr th {\n",
       "        vertical-align: top;\n",
       "    }\n",
       "\n",
       "    .dataframe thead th {\n",
       "        text-align: right;\n",
       "    }\n",
       "</style>\n",
       "<table border=\"1\" class=\"dataframe\">\n",
       "  <thead>\n",
       "    <tr style=\"text-align: right;\">\n",
       "      <th></th>\n",
       "      <th>order_id</th>\n",
       "      <th>shop_id</th>\n",
       "      <th>user_id</th>\n",
       "      <th>order_amount</th>\n",
       "      <th>total_items</th>\n",
       "      <th>payment_method</th>\n",
       "      <th>created_at</th>\n",
       "    </tr>\n",
       "  </thead>\n",
       "  <tbody>\n",
       "    <tr>\n",
       "      <th>0</th>\n",
       "      <td>1</td>\n",
       "      <td>53</td>\n",
       "      <td>746</td>\n",
       "      <td>224</td>\n",
       "      <td>2</td>\n",
       "      <td>cash</td>\n",
       "      <td>2017-03-13 12:36:56</td>\n",
       "    </tr>\n",
       "    <tr>\n",
       "      <th>1</th>\n",
       "      <td>2</td>\n",
       "      <td>92</td>\n",
       "      <td>925</td>\n",
       "      <td>90</td>\n",
       "      <td>1</td>\n",
       "      <td>cash</td>\n",
       "      <td>2017-03-03 17:38:52</td>\n",
       "    </tr>\n",
       "    <tr>\n",
       "      <th>2</th>\n",
       "      <td>3</td>\n",
       "      <td>44</td>\n",
       "      <td>861</td>\n",
       "      <td>144</td>\n",
       "      <td>1</td>\n",
       "      <td>cash</td>\n",
       "      <td>2017-03-14 4:23:56</td>\n",
       "    </tr>\n",
       "    <tr>\n",
       "      <th>3</th>\n",
       "      <td>4</td>\n",
       "      <td>18</td>\n",
       "      <td>935</td>\n",
       "      <td>156</td>\n",
       "      <td>1</td>\n",
       "      <td>credit_card</td>\n",
       "      <td>2017-03-26 12:43:37</td>\n",
       "    </tr>\n",
       "    <tr>\n",
       "      <th>4</th>\n",
       "      <td>5</td>\n",
       "      <td>18</td>\n",
       "      <td>883</td>\n",
       "      <td>156</td>\n",
       "      <td>1</td>\n",
       "      <td>credit_card</td>\n",
       "      <td>2017-03-01 4:35:11</td>\n",
       "    </tr>\n",
       "  </tbody>\n",
       "</table>\n",
       "</div>"
      ],
      "text/plain": [
       "   order_id  shop_id  user_id  order_amount  total_items payment_method  \\\n",
       "0         1       53      746           224            2           cash   \n",
       "1         2       92      925            90            1           cash   \n",
       "2         3       44      861           144            1           cash   \n",
       "3         4       18      935           156            1    credit_card   \n",
       "4         5       18      883           156            1    credit_card   \n",
       "\n",
       "            created_at  \n",
       "0  2017-03-13 12:36:56  \n",
       "1  2017-03-03 17:38:52  \n",
       "2   2017-03-14 4:23:56  \n",
       "3  2017-03-26 12:43:37  \n",
       "4   2017-03-01 4:35:11  "
      ]
     },
     "execution_count": 27,
     "metadata": {},
     "output_type": "execute_result"
    }
   ],
   "source": [
    "#check the data to see that it has loaded properly, what it contains, column labels, etc.\n",
    "shoes.head()"
   ]
  },
  {
   "cell_type": "code",
   "execution_count": 28,
   "id": "8109c32a",
   "metadata": {},
   "outputs": [
    {
     "data": {
      "text/plain": [
       "False"
      ]
     },
     "execution_count": 28,
     "metadata": {},
     "output_type": "execute_result"
    }
   ],
   "source": [
    "#Check for any zeros in the dataset (always a good thing to check!)\n",
    "shoes.eq(0).any().any()"
   ]
  },
  {
   "cell_type": "code",
   "execution_count": 29,
   "id": "465d17bb",
   "metadata": {},
   "outputs": [
    {
     "data": {
      "text/plain": [
       "(array([], dtype=int64), array([], dtype=int64))"
      ]
     },
     "execution_count": 29,
     "metadata": {},
     "output_type": "execute_result"
    }
   ],
   "source": [
    "#Check for any null entries and print the row/column indices of the null values if they exist\n",
    "np.where(pd.isnull(shoes))"
   ]
  },
  {
   "cell_type": "markdown",
   "id": "3013a9e7",
   "metadata": {},
   "source": [
    "The above lines tell me that there are no zero entries in the dataframe and no null values (because the 'where' function returned empty arrays), so no further investigation is necessary in this direction."
   ]
  },
  {
   "cell_type": "markdown",
   "id": "e222bd58",
   "metadata": {},
   "source": [
    "Next, I will look at some summary statistics of the data to begin investigating where the naive calculation of average order value (AOV) is going wrong."
   ]
  },
  {
   "cell_type": "code",
   "execution_count": 30,
   "id": "07e183d2",
   "metadata": {},
   "outputs": [
    {
     "data": {
      "text/html": [
       "<div>\n",
       "<style scoped>\n",
       "    .dataframe tbody tr th:only-of-type {\n",
       "        vertical-align: middle;\n",
       "    }\n",
       "\n",
       "    .dataframe tbody tr th {\n",
       "        vertical-align: top;\n",
       "    }\n",
       "\n",
       "    .dataframe thead th {\n",
       "        text-align: right;\n",
       "    }\n",
       "</style>\n",
       "<table border=\"1\" class=\"dataframe\">\n",
       "  <thead>\n",
       "    <tr style=\"text-align: right;\">\n",
       "      <th></th>\n",
       "      <th>order_id</th>\n",
       "      <th>shop_id</th>\n",
       "      <th>user_id</th>\n",
       "      <th>order_amount</th>\n",
       "      <th>total_items</th>\n",
       "    </tr>\n",
       "  </thead>\n",
       "  <tbody>\n",
       "    <tr>\n",
       "      <th>count</th>\n",
       "      <td>5000.000000</td>\n",
       "      <td>5000.000000</td>\n",
       "      <td>5000.000000</td>\n",
       "      <td>5000.000000</td>\n",
       "      <td>5000.00000</td>\n",
       "    </tr>\n",
       "    <tr>\n",
       "      <th>mean</th>\n",
       "      <td>2500.500000</td>\n",
       "      <td>50.078800</td>\n",
       "      <td>849.092400</td>\n",
       "      <td>3145.128000</td>\n",
       "      <td>8.78720</td>\n",
       "    </tr>\n",
       "    <tr>\n",
       "      <th>std</th>\n",
       "      <td>1443.520003</td>\n",
       "      <td>29.006118</td>\n",
       "      <td>87.798982</td>\n",
       "      <td>41282.539349</td>\n",
       "      <td>116.32032</td>\n",
       "    </tr>\n",
       "    <tr>\n",
       "      <th>min</th>\n",
       "      <td>1.000000</td>\n",
       "      <td>1.000000</td>\n",
       "      <td>607.000000</td>\n",
       "      <td>90.000000</td>\n",
       "      <td>1.00000</td>\n",
       "    </tr>\n",
       "    <tr>\n",
       "      <th>25%</th>\n",
       "      <td>1250.750000</td>\n",
       "      <td>24.000000</td>\n",
       "      <td>775.000000</td>\n",
       "      <td>163.000000</td>\n",
       "      <td>1.00000</td>\n",
       "    </tr>\n",
       "    <tr>\n",
       "      <th>50%</th>\n",
       "      <td>2500.500000</td>\n",
       "      <td>50.000000</td>\n",
       "      <td>849.000000</td>\n",
       "      <td>284.000000</td>\n",
       "      <td>2.00000</td>\n",
       "    </tr>\n",
       "    <tr>\n",
       "      <th>75%</th>\n",
       "      <td>3750.250000</td>\n",
       "      <td>75.000000</td>\n",
       "      <td>925.000000</td>\n",
       "      <td>390.000000</td>\n",
       "      <td>3.00000</td>\n",
       "    </tr>\n",
       "    <tr>\n",
       "      <th>max</th>\n",
       "      <td>5000.000000</td>\n",
       "      <td>100.000000</td>\n",
       "      <td>999.000000</td>\n",
       "      <td>704000.000000</td>\n",
       "      <td>2000.00000</td>\n",
       "    </tr>\n",
       "  </tbody>\n",
       "</table>\n",
       "</div>"
      ],
      "text/plain": [
       "          order_id      shop_id      user_id   order_amount  total_items\n",
       "count  5000.000000  5000.000000  5000.000000    5000.000000   5000.00000\n",
       "mean   2500.500000    50.078800   849.092400    3145.128000      8.78720\n",
       "std    1443.520003    29.006118    87.798982   41282.539349    116.32032\n",
       "min       1.000000     1.000000   607.000000      90.000000      1.00000\n",
       "25%    1250.750000    24.000000   775.000000     163.000000      1.00000\n",
       "50%    2500.500000    50.000000   849.000000     284.000000      2.00000\n",
       "75%    3750.250000    75.000000   925.000000     390.000000      3.00000\n",
       "max    5000.000000   100.000000   999.000000  704000.000000   2000.00000"
      ]
     },
     "execution_count": 30,
     "metadata": {},
     "output_type": "execute_result"
    }
   ],
   "source": [
    "#get some summary statistics of each column\n",
    "shoes.describe()"
   ]
  },
  {
   "cell_type": "markdown",
   "id": "2f62eb81",
   "metadata": {},
   "source": [
    "The above output clearly shows the naive AOV calculation of $3,145.13 reflected in the mean of the 'order_amount' column. This is undoubtedly too high for sneaker sales, and some other data from this output hints at a potential explanation. The max value of the 'order_amount' column is extremely high while the thrid quartile value is more reasonable, leading me to believe that there is one or more outlier in the data driving up the mean value of the 'order_amount' column. The same goes for the 'total_items' column, where it seems that the mean of 'order_amount' may be driven up by one or more outlier stores that recorded very large orders (which naturally would come with very large revenue)."
   ]
  },
  {
   "cell_type": "markdown",
   "id": "02719977",
   "metadata": {},
   "source": [
    "Instead of calculating the AOV as simply the mean value of the 'order_amount' column, I propose (based on information from [Shopify's own blog](https://www.shopify.com.ng/blog/average-order-value#averageorder)) that a better calculation of AOV is the total revenue divided by the number of orders from each store. Once calculated for each store, an average may be taken to find the average AOV for the 30-day period when considering all sneaker shops."
   ]
  },
  {
   "cell_type": "markdown",
   "id": "6ca1be64",
   "metadata": {},
   "source": [
    "I calculate a new 'corrected_AOV' value for each store by grouping the data by store and finding the sum of order amounts and dividing that value by the number of orders: "
   ]
  },
  {
   "cell_type": "code",
   "execution_count": 37,
   "id": "6ea7800b",
   "metadata": {},
   "outputs": [
    {
     "data": {
      "text/plain": [
       "count       100.000000\n",
       "mean       3136.834088\n",
       "std       23935.881130\n",
       "min         162.857143\n",
       "25%         263.675962\n",
       "50%         308.889758\n",
       "75%         336.628352\n",
       "max      235101.490196\n",
       "dtype: float64"
      ]
     },
     "execution_count": 37,
     "metadata": {},
     "output_type": "execute_result"
    }
   ],
   "source": [
    "#Group data by 'shop_id' and find the total revenue as the sum of the 'order_amount' entries for each store\n",
    "#and the number of orders as the number of 'order_id' entries for each store.\n",
    "#Divide these values to calculate the 'corrected_AOV' value.\n",
    "\n",
    "orders_per_store = shoes.groupby('shop_id')['order_id'].count()\n",
    "revenue_per_store = shoes.groupby('shop_id')['order_amount'].sum()\n",
    "\n",
    "corrected_AOV = revenue_per_store/orders_per_store\n",
    "\n",
    "#Now check the summary stats for the calculated AOV\n",
    "corrected_AOV.describe()\n"
   ]
  },
  {
   "cell_type": "markdown",
   "id": "909036c5",
   "metadata": {},
   "source": [
    "The above shows the statistics for the newly calculated 'corrected_AOV' value, but I see that its mean is still very high. This makes sense since I previously identified that there are likely outlier shops that are driving the average way up, and still have done nothing to investigate them. So let's check out how many outliers are in the data and get some more details on those shops."
   ]
  },
  {
   "cell_type": "code",
   "execution_count": 78,
   "id": "8a7f9edc",
   "metadata": {},
   "outputs": [
    {
     "data": {
      "image/png": "[encoded data removed]",
      "text/plain": [
       "<Figure size 432x288 with 1 Axes>"
      ]
     },
     "metadata": {},
     "output_type": "display_data"
    }
   ],
   "source": [
    "#Make some quick plots to identify the outlier shop(s)\n",
    "#plt.scatter(shoes['total_items'], shoes['order_amount'])\n",
    "\n",
    "x = np.arange(start=1, stop=101, step=1) \n",
    "#The above line takes advanage of the fact that the revenue_per_store variable is sorted by store_id,\n",
    "#which we know runs from 1 to 100\n",
    "\n",
    "plt.scatter(x, corrected_AOV)\n",
    "plt.xlabel(\"shop_id\")\n",
    "plt.ylabel(\"corrected_AOV (per store)\")\n",
    "\n",
    "for i in range(len(x)):\n",
    "    if corrected_AOV.iloc[i] > 3000:\n",
    "        plt.annotate(str(i+1), (x[i+1], corrected_AOV[i+1] + 0.2))\n",
    "    else:\n",
    "        continue\n"
   ]
  },
  {
   "cell_type": "markdown",
   "id": "1221b321",
   "metadata": {},
   "source": [
    "The annotations on the outlier points on the above plot of corrected_AOV (sum of 'order_amount' divided by the number of orders recorded at each store) versus shop_id represent the shop_id. This clearly shows that some outlier behavior is happening at the stores with shop_id values of 42 and 78. So let's take a closer look at them!"
   ]
  },
  {
   "cell_type": "code",
   "execution_count": 80,
   "id": "e14f6810",
   "metadata": {},
   "outputs": [
    {
     "name": "stdout",
     "output_type": "stream",
     "text": [
      "      order_id  shop_id  user_id  order_amount  total_items payment_method  \\\n",
      "15          16       42      607        704000         2000    credit_card   \n",
      "40          41       42      793           352            1    credit_card   \n",
      "60          61       42      607        704000         2000    credit_card   \n",
      "308        309       42      770           352            1    credit_card   \n",
      "409        410       42      904           704            2    credit_card   \n",
      "520        521       42      607        704000         2000    credit_card   \n",
      "834        835       42      792           352            1           cash   \n",
      "835        836       42      819           704            2           cash   \n",
      "938        939       42      808          1056            3    credit_card   \n",
      "979        980       42      744           352            1          debit   \n",
      "1104      1105       42      607        704000         2000    credit_card   \n",
      "1362      1363       42      607        704000         2000    credit_card   \n",
      "1364      1365       42      797          1760            5           cash   \n",
      "1367      1368       42      926          1408            4           cash   \n",
      "1436      1437       42      607        704000         2000    credit_card   \n",
      "1471      1472       42      907          1408            4          debit   \n",
      "1512      1513       42      946           352            1          debit   \n",
      "1520      1521       42      756           704            2          debit   \n",
      "1562      1563       42      607        704000         2000    credit_card   \n",
      "1602      1603       42      607        704000         2000    credit_card   \n",
      "1911      1912       42      739           704            2           cash   \n",
      "1929      1930       42      770           352            1    credit_card   \n",
      "2003      2004       42      934           704            2           cash   \n",
      "2018      2019       42      739           352            1          debit   \n",
      "2053      2054       42      951           352            1          debit   \n",
      "2153      2154       42      607        704000         2000    credit_card   \n",
      "2273      2274       42      747           704            2          debit   \n",
      "2297      2298       42      607        704000         2000    credit_card   \n",
      "2491      2492       42      868           704            2          debit   \n",
      "2609      2610       42      868           704            2          debit   \n",
      "2766      2767       42      970           704            2    credit_card   \n",
      "2835      2836       42      607        704000         2000    credit_card   \n",
      "2969      2970       42      607        704000         2000    credit_card   \n",
      "2987      2988       42      819          1056            3           cash   \n",
      "3332      3333       42      607        704000         2000    credit_card   \n",
      "3513      3514       42      726          1056            3          debit   \n",
      "3651      3652       42      830           352            1    credit_card   \n",
      "3697      3698       42      839           352            1          debit   \n",
      "3903      3904       42      975           352            1          debit   \n",
      "3998      3999       42      886           352            1          debit   \n",
      "4056      4057       42      607        704000         2000    credit_card   \n",
      "4231      4232       42      962           352            1           cash   \n",
      "4294      4295       42      859           704            2           cash   \n",
      "4326      4327       42      788           704            2          debit   \n",
      "4421      4422       42      736           704            2    credit_card   \n",
      "4625      4626       42      809           352            1    credit_card   \n",
      "4646      4647       42      607        704000         2000    credit_card   \n",
      "4745      4746       42      872           352            1          debit   \n",
      "4767      4768       42      720           704            2    credit_card   \n",
      "4868      4869       42      607        704000         2000    credit_card   \n",
      "4882      4883       42      607        704000         2000    credit_card   \n",
      "\n",
      "               created_at  \n",
      "15     2017-03-07 4:00:00  \n",
      "40    2017-03-24 14:15:41  \n",
      "60     2017-03-04 4:00:00  \n",
      "308   2017-03-11 18:14:39  \n",
      "409   2017-03-04 14:32:58  \n",
      "520    2017-03-02 4:00:00  \n",
      "834   2017-03-25 21:31:25  \n",
      "835   2017-03-09 14:15:15  \n",
      "938   2017-03-13 23:43:45  \n",
      "979   2017-03-12 13:09:04  \n",
      "1104   2017-03-24 4:00:00  \n",
      "1362   2017-03-15 4:00:00  \n",
      "1364   2017-03-10 6:28:21  \n",
      "1367   2017-03-13 2:38:34  \n",
      "1436   2017-03-11 4:00:00  \n",
      "1471  2017-03-12 23:00:22  \n",
      "1512  2017-03-24 13:35:04  \n",
      "1520  2017-03-22 13:10:31  \n",
      "1562   2017-03-19 4:00:00  \n",
      "1602   2017-03-17 4:00:00  \n",
      "1911   2017-03-07 5:42:52  \n",
      "1929   2017-03-17 8:11:13  \n",
      "2003   2017-03-26 9:21:26  \n",
      "2018  2017-03-01 12:42:26  \n",
      "2053  2017-03-19 11:49:12  \n",
      "2153   2017-03-12 4:00:00  \n",
      "2273  2017-03-27 20:48:19  \n",
      "2297   2017-03-07 4:00:00  \n",
      "2491  2017-03-01 18:33:33  \n",
      "2609  2017-03-23 18:10:14  \n",
      "2766  2017-03-05 10:45:42  \n",
      "2835   2017-03-28 4:00:00  \n",
      "2969   2017-03-28 4:00:00  \n",
      "2987   2017-03-03 9:09:25  \n",
      "3332   2017-03-24 4:00:00  \n",
      "3513  2017-03-24 17:51:05  \n",
      "3651  2017-03-24 22:26:58  \n",
      "3697   2017-03-12 2:45:09  \n",
      "3903   2017-03-12 1:28:31  \n",
      "3998  2017-03-09 20:10:41  \n",
      "4056   2017-03-28 4:00:00  \n",
      "4231   2017-03-04 0:01:19  \n",
      "4294  2017-03-24 20:50:40  \n",
      "4326  2017-03-16 23:37:57  \n",
      "4421  2017-03-01 12:19:49  \n",
      "4625   2017-03-11 8:21:26  \n",
      "4646   2017-03-02 4:00:00  \n",
      "4745   2017-03-24 0:57:24  \n",
      "4767  2017-03-14 10:26:08  \n",
      "4868   2017-03-22 4:00:00  \n",
      "4882   2017-03-25 4:00:00  \n"
     ]
    }
   ],
   "source": [
    "print(shoes.loc[shoes['shop_id'] == 42])"
   ]
  },
  {
   "cell_type": "code",
   "execution_count": 82,
   "id": "31364824",
   "metadata": {},
   "outputs": [
    {
     "name": "stdout",
     "output_type": "stream",
     "text": [
      "      order_id  shop_id  user_id  order_amount  total_items payment_method  \\\n",
      "160        161       78      990         25725            1    credit_card   \n",
      "490        491       78      936         51450            2          debit   \n",
      "493        494       78      983         51450            2           cash   \n",
      "511        512       78      967         51450            2           cash   \n",
      "617        618       78      760         51450            2           cash   \n",
      "691        692       78      878        154350            6          debit   \n",
      "1056      1057       78      800         25725            1          debit   \n",
      "1193      1194       78      944         25725            1          debit   \n",
      "1204      1205       78      970         25725            1    credit_card   \n",
      "1259      1260       78      775         77175            3    credit_card   \n",
      "1384      1385       78      867         25725            1           cash   \n",
      "1419      1420       78      912         25725            1           cash   \n",
      "1452      1453       78      812         25725            1    credit_card   \n",
      "1529      1530       78      810         51450            2           cash   \n",
      "2270      2271       78      855         25725            1    credit_card   \n",
      "2452      2453       78      709         51450            2           cash   \n",
      "2492      2493       78      834        102900            4          debit   \n",
      "2495      2496       78      707         51450            2           cash   \n",
      "2512      2513       78      935         51450            2          debit   \n",
      "2548      2549       78      861         25725            1           cash   \n",
      "2564      2565       78      915         77175            3          debit   \n",
      "2690      2691       78      962         77175            3          debit   \n",
      "2773      2774       78      890         25725            1           cash   \n",
      "2818      2819       78      869         51450            2          debit   \n",
      "2821      2822       78      814         51450            2           cash   \n",
      "2906      2907       78      817         77175            3          debit   \n",
      "2922      2923       78      740         25725            1          debit   \n",
      "3085      3086       78      910         25725            1           cash   \n",
      "3101      3102       78      855         51450            2    credit_card   \n",
      "3151      3152       78      745         25725            1    credit_card   \n",
      "3167      3168       78      927         51450            2           cash   \n",
      "3403      3404       78      928         77175            3          debit   \n",
      "3440      3441       78      982         25725            1          debit   \n",
      "3705      3706       78      828         51450            2    credit_card   \n",
      "3724      3725       78      766         77175            3    credit_card   \n",
      "3780      3781       78      889         25725            1           cash   \n",
      "4040      4041       78      852         25725            1           cash   \n",
      "4079      4080       78      946         51450            2           cash   \n",
      "4192      4193       78      787         77175            3    credit_card   \n",
      "4311      4312       78      960         51450            2          debit   \n",
      "4412      4413       78      756         51450            2          debit   \n",
      "4420      4421       78      969         77175            3          debit   \n",
      "4505      4506       78      866         25725            1          debit   \n",
      "4584      4585       78      997         25725            1           cash   \n",
      "4715      4716       78      818         77175            3          debit   \n",
      "4918      4919       78      823         25725            1           cash   \n",
      "\n",
      "               created_at  \n",
      "160    2017-03-12 5:56:57  \n",
      "490   2017-03-26 17:08:19  \n",
      "493   2017-03-16 21:39:35  \n",
      "511    2017-03-09 7:23:14  \n",
      "617   2017-03-18 11:18:42  \n",
      "691   2017-03-27 22:51:43  \n",
      "1056  2017-03-15 10:16:45  \n",
      "1193  2017-03-16 16:38:26  \n",
      "1204  2017-03-17 22:32:21  \n",
      "1259   2017-03-27 9:27:20  \n",
      "1384  2017-03-17 16:38:06  \n",
      "1419  2017-03-30 12:23:43  \n",
      "1452  2017-03-17 18:09:54  \n",
      "1529   2017-03-29 7:12:01  \n",
      "2270  2017-03-14 23:58:22  \n",
      "2452  2017-03-27 11:04:04  \n",
      "2492   2017-03-04 4:37:34  \n",
      "2495   2017-03-26 4:38:52  \n",
      "2512  2017-03-18 18:57:13  \n",
      "2548  2017-03-17 19:36:00  \n",
      "2564   2017-03-25 1:19:35  \n",
      "2690   2017-03-22 7:33:25  \n",
      "2773  2017-03-26 10:36:43  \n",
      "2818   2017-03-17 6:25:51  \n",
      "2821  2017-03-02 17:13:25  \n",
      "2906   2017-03-16 3:45:46  \n",
      "2922  2017-03-12 20:10:58  \n",
      "3085   2017-03-26 1:59:27  \n",
      "3101   2017-03-21 5:10:34  \n",
      "3151  2017-03-18 13:13:07  \n",
      "3167  2017-03-12 12:23:08  \n",
      "3403   2017-03-16 9:45:05  \n",
      "3440  2017-03-19 19:02:54  \n",
      "3705  2017-03-14 20:43:15  \n",
      "3724  2017-03-16 14:13:26  \n",
      "3780  2017-03-11 21:14:50  \n",
      "4040  2017-03-02 14:31:12  \n",
      "4079  2017-03-20 21:14:00  \n",
      "4192   2017-03-18 9:25:32  \n",
      "4311   2017-03-01 3:02:10  \n",
      "4412   2017-03-02 4:13:39  \n",
      "4420  2017-03-09 15:21:35  \n",
      "4505  2017-03-22 22:06:01  \n",
      "4584  2017-03-25 21:48:44  \n",
      "4715   2017-03-05 5:10:44  \n",
      "4918  2017-03-15 13:26:46  \n"
     ]
    }
   ],
   "source": [
    "print(shoes.loc[shoes['shop_id'] == 78])"
   ]
  },
  {
   "cell_type": "markdown",
   "id": "0051c291",
   "metadata": {},
   "source": [
    "Excusing the somewhat messy formating, it can be easily seen that these stores have some questionable qualities. The store with shop_id=42 has frequent orders of 2000 items, which, even though the items are reasonably priced, drives up the stores's revenue to very high values. On the other hand, the store corresponding to shop_id=78 has more reasonable order sizes, but appears to be charging $25,725 per pair of shoes! There may be reasonable explanations for these values- perhaps store 42 is a wholesaler shipping out popular brands to large brick-and-mortar locations and store 78 is a very high-end fashion designer catering to wealthy clientele, or a simple typo or bug is present in the data for these stores (with the latter option probably the most likely)."
   ]
  },
  {
   "cell_type": "markdown",
   "id": "42c07185",
   "metadata": {},
   "source": [
    "However, without the ability to ask the stores or employees responsible for the data acquisition, it seems safest to omit the order data from these stores when calculating the AOV for our shoe stores. Let's do that and re-calculate the AOV:"
   ]
  },
  {
   "cell_type": "code",
   "execution_count": 88,
   "id": "f2326974",
   "metadata": {},
   "outputs": [
    {
     "name": "stdout",
     "output_type": "stream",
     "text": [
      "dataframe shape before filtering:  (5000, 7)\n",
      "dataframe shape after filtering:  (4903, 7)\n"
     ]
    }
   ],
   "source": [
    "#check the shape of the dataframe before filtering\n",
    "print(\"dataframe shape before filtering: \", shoes.shape)\n",
    "\n",
    "#create a new data frame with outlier stores dropped\n",
    "shoes_filtered = shoes[shoes['shop_id'] != 42]\n",
    "shoes_filtered = shoes_filtered[shoes_filtered['shop_id'] != 78]\n",
    "\n",
    "#check the shape of the dataframe after filtering\n",
    "print(\"dataframe shape after filtering: \", shoes_filtered.shape)"
   ]
  },
  {
   "cell_type": "markdown",
   "id": "12b936e1",
   "metadata": {},
   "source": [
    "The data from the oddly performing stores has been filtered out. Now I will finally calculate the corrected AOV for the shoe stores!"
   ]
  },
  {
   "cell_type": "code",
   "execution_count": 91,
   "id": "f371865a",
   "metadata": {},
   "outputs": [
    {
     "data": {
      "text/plain": [
       "count     98.000000\n",
       "mean     299.682399\n",
       "std       50.896733\n",
       "min      162.857143\n",
       "25%      262.661218\n",
       "50%      308.827696\n",
       "75%      334.631226\n",
       "max      403.545455\n",
       "dtype: float64"
      ]
     },
     "execution_count": 91,
     "metadata": {},
     "output_type": "execute_result"
    }
   ],
   "source": [
    "#find the number of orders placed at each store and the total revenue earned at each store\n",
    "#(this could also be done by removing elements from the previously calculated corrected_AOV array,\n",
    "#but for the sake of clarity I will recalculate the AOV for each store using the filtered data)\n",
    "orders_per_store_filtered = shoes_filtered.groupby('shop_id')['order_id'].count()\n",
    "revenue_per_store_filtered = shoes_filtered.groupby('shop_id')['order_amount'].sum()\n",
    "\n",
    "corrected_AOV_filtered = revenue_per_store_filtered/orders_per_store_filtered\n",
    "\n",
    "corrected_AOV_filtered.describe()"
   ]
  },
  {
   "cell_type": "code",
   "execution_count": 95,
   "id": "d65b1ce4",
   "metadata": {},
   "outputs": [
    {
     "name": "stdout",
     "output_type": "stream",
     "text": [
      "The AOV averaged across all stores is 299.68\n"
     ]
    }
   ],
   "source": [
    "print(\"The AOV averaged across all stores is\", np.round(corrected_AOV_filtered.mean(), 2))"
   ]
  },
  {
   "cell_type": "markdown",
   "id": "6c126cd7",
   "metadata": {},
   "source": [
    "That looks much more reasonable! This tells us that the AOV averaged across all of our shoe stores, after removing outliers, is $299.68"
   ]
  },
  {
   "cell_type": "markdown",
   "id": "d47c12f0",
   "metadata": {},
   "source": [
    "## Summary"
   ]
  },
  {
   "cell_type": "markdown",
   "id": "57715600",
   "metadata": {},
   "source": [
    "#### a. Think about what could be going wrong with our calculation. Think about a better way to evaluate this data."
   ]
  },
  {
   "cell_type": "markdown",
   "id": "fa666a1b",
   "metadata": {},
   "source": [
    "There were several issues with the naive approach of using the mean value of the 'order_amount' column as the AOV. First an foremost, there was no treatment done to the data to test for outliers when there were in fact two stores exhibiting extreme behavior in comparison to the others, with one dealing with extreme item volume and another dealing with extreme prices. Without the ability to verify the data from these two stores, I believe that it is safest to remove them from consideration when calculating the AOV across all of the sneaker stores. Second, while the naive approach used to calculate the AOV will result in a decent estimation, a more correct approach is to consider the total revenue and number of orders from each sneaker store."
   ]
  },
  {
   "cell_type": "markdown",
   "id": "aa66238e",
   "metadata": {},
   "source": [
    "#### b. What metric would you report for this dataset?"
   ]
  },
  {
   "cell_type": "markdown",
   "id": "9014fcb5",
   "metadata": {},
   "source": [
    "To distill the dataset into a single metric, I would report the corrected average AOV as the total revenue of each store divided by the total number of orders from each store, averaged across all sneaker stores in the dataset with the two identified outliers removed (at least until their sales data can be verified or corrected)."
   ]
  },
  {
   "cell_type": "markdown",
   "id": "0d66c684",
   "metadata": {},
   "source": [
    "#### c. What is its value?"
   ]
  },
  {
   "cell_type": "markdown",
   "id": "3a38050a",
   "metadata": {},
   "source": [
    "I found the corrected AOV averaged over the sneaker stores to be **$299.68**."
   ]
  }
 ],
 "metadata": {
  "kernelspec": {
   "display_name": "Python 3 (ipykernel)",
   "language": "python",
   "name": "python3"
  },
  "language_info": {
   "codemirror_mode": {
    "name": "ipython",
    "version": 3
   },
   "file_extension": ".py",
   "mimetype": "text/x-python",
   "name": "python",
   "nbconvert_exporter": "python",
   "pygments_lexer": "ipython3",
   "version": "3.9.12"
  }
 },
 "nbformat": 4,
 "nbformat_minor": 5
}
