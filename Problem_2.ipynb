{
 "cells": [
  {
   "cell_type": "markdown",
   "id": "273a9230",
   "metadata": {},
   "source": [
    "## a. How many orders were shipped by Speedy Express in total?"
   ]
  },
  {
   "cell_type": "markdown",
   "id": "8319e70e",
   "metadata": {},
   "source": [
    "**SQL query:**\n",
    "\n",
    "SELECT COUNT(ShipperID) FROM Orders\n",
    "\n",
    "WHERE ShipperID=1;\n",
    "\n",
    "**Final answer:**\n",
    "54"
   ]
  },
  {
   "cell_type": "markdown",
   "id": "d1b953cc",
   "metadata": {},
   "source": [
    "## b. What is the last name of the employee with the most orders?"
   ]
  },
  {
   "cell_type": "markdown",
   "id": "a291888b",
   "metadata": {},
   "source": [
    "**SQL query:**\n",
    "\n",
    "SELECT LastName\n",
    "\n",
    "FROM Orders\n",
    "\n",
    "INNER JOIN Employees ON Orders.EmployeeID=Employees.EmployeeID\n",
    "\n",
    "GROUP BY Employees.LastName\n",
    "\n",
    "ORDER BY COUNT(Employees.LastName) DESC;\n",
    "\n",
    "**Final answer:**\n",
    "Peacock"
   ]
  },
  {
   "cell_type": "markdown",
   "id": "f70b4110",
   "metadata": {},
   "source": [
    "## c. What product was ordered the most by customers in Germany?"
   ]
  },
  {
   "cell_type": "markdown",
   "id": "372870aa",
   "metadata": {},
   "source": [
    "**SQL query:**\n",
    "\n",
    "SELECT ProductName, COUNT(o.CustomerID) FROM ((((Orders AS o)\n",
    "\n",
    "INNER JOIN (Customers AS c) ON o.CustomerID=c.CustomerID)\n",
    "\n",
    "INNER JOIN (OrderDetails AS od) ON o.OrderID=od.OrderID)\n",
    "\n",
    "INNER JOIN (Products AS p) ON od.ProductID=p.ProductID)\n",
    "\n",
    "WHERE Country=\"Germany\"\n",
    "\n",
    "GROUP BY ProductName\n",
    "\n",
    "ORDER BY COUNT(o.CustomerID) DESC;\n",
    "\n",
    "**Final answer:**\n",
    "Gorgonzola Telino (Ordered by 5 customers from Germany)\n",
    "\n",
    "**Note:** I interpretted this question as asking for the product with the highest number of orders by German customers, but it could also be looked at as the product with the most quantity sold to German customers. If that is the case, simply replacing all instances of \"COUNT(o.CustomerID)\" with \"SUM(od.Quantity)\" in the above query will yield an answer of \"Boston Crab Meat\" with 160 units sold to German customers."
   ]
  },
  {
   "cell_type": "code",
   "execution_count": null,
   "id": "f16a1e68",
   "metadata": {},
   "outputs": [],
   "source": []
  }
 ],
 "metadata": {
  "kernelspec": {
   "display_name": "Python 3 (ipykernel)",
   "language": "python",
   "name": "python3"
  },
  "language_info": {
   "codemirror_mode": {
    "name": "ipython",
    "version": 3
   },
   "file_extension": ".py",
   "mimetype": "text/x-python",
   "name": "python",
   "nbconvert_exporter": "python",
   "pygments_lexer": "ipython3",
   "version": "3.9.12"
  }
 },
 "nbformat": 4,
 "nbformat_minor": 5
}
